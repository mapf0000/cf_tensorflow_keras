{
 "cells": [
  {
   "cell_type": "code",
   "execution_count": 1,
   "metadata": {},
   "outputs": [
    {
     "name": "stderr",
     "output_type": "stream",
     "text": [
      "C:\\Users\\Max\\Anaconda3\\lib\\site-packages\\h5py\\__init__.py:36: FutureWarning: Conversion of the second argument of issubdtype from `float` to `np.floating` is deprecated. In future, it will be treated as `np.float64 == np.dtype(float).type`.\n",
      "  from ._conv import register_converters as _register_converters\n"
     ]
    }
   ],
   "source": [
    "# imports\n",
    "import numpy as np\n",
    "import tensorflow as tf\n",
    "\n",
    "from sklearn.model_selection import train_test_split\n",
    "\n",
    "from datasets.datasets import load_movie_lens_100k\n",
    "from models.svd import SVD\n",
    "from models.cf_mlp import Cf_mlp"
   ]
  },
  {
   "cell_type": "code",
   "execution_count": 2,
   "metadata": {},
   "outputs": [],
   "source": [
    "# setup tensorflow session\n",
    "sess = tf.Session()"
   ]
  },
  {
   "cell_type": "code",
   "execution_count": 13,
   "metadata": {},
   "outputs": [
    {
     "name": "stdout",
     "output_type": "stream",
     "text": [
      "(90000, 2)\n",
      "(90000,)\n",
      "(10000, 2)\n",
      "(10000,)\n"
     ]
    }
   ],
   "source": [
    "# get data\n",
    "x, y = load_movie_lens_100k()\n",
    "x_train, x_valid, y_train, y_valid = train_test_split(x, y, test_size=0.1)\n",
    "print(x_train.shape)\n",
    "print(y_train.shape)\n",
    "print(x_valid.shape)\n",
    "print(y_valid.shape)"
   ]
  },
  {
   "cell_type": "code",
   "execution_count": 4,
   "metadata": {},
   "outputs": [],
   "source": [
    "# Train SVD model\n",
    "#svd_model = SVD(sess)\n",
    "#svd_model.train(x = x_train, y = y_train, validation_data=(x_valid, y_valid), epochs = 20, early_stopping = 4)"
   ]
  },
  {
   "cell_type": "code",
   "execution_count": 12,
   "metadata": {},
   "outputs": [
    {
     "name": "stdout",
     "output_type": "stream",
     "text": [
      "Train on 90000 samples, validate on 10000 samples\n",
      "Epoch 1/30\n",
      "90000/90000 [==============================] - 3s 39us/step - loss: 1.2652 - mean_absolute_error: 0.8663 - val_loss: 0.9847 - val_mean_absolute_error: 0.7666 loss: 1.5335 - mea - ETA: 0s - loss: 1.3059 - mean_absolute_e\n",
      "Epoch 2/30\n",
      "90000/90000 [==============================] - 3s 32us/step - loss: 1.0579 - mean_absolute_error: 0.7983 - val_loss: 0.9674 - val_mean_absolute_error: 0.7647 loss: 1.0612 - mean_absol\n",
      "Epoch 3/30\n",
      "90000/90000 [==============================] - 3s 31us/step - loss: 1.0133 - mean_absolute_error: 0.7809 - val_loss: 0.9547 - val_mean_absolute_error: 0.7572s: 1.0195 - mean\n",
      "Epoch 4/30\n",
      "90000/90000 [==============================] - 3s 31us/step - loss: 0.9856 - mean_absolute_error: 0.7700 - val_loss: 0.9515 - val_mean_absolute_error: 0.7580\n",
      "Epoch 5/30\n",
      "90000/90000 [==============================] - 3s 31us/step - loss: 0.9711 - mean_absolute_error: 0.7642 - val_loss: 0.9475 - val_mean_absolute_error: 0.7601\n",
      "Epoch 6/30\n",
      "90000/90000 [==============================] - 3s 30us/step - loss: 0.9584 - mean_absolute_error: 0.7593 - val_loss: 0.9407 - val_mean_absolute_error: 0.7577\n",
      "Epoch 7/30\n",
      "90000/90000 [==============================] - 3s 30us/step - loss: 0.9457 - mean_absolute_error: 0.7562 - val_loss: 0.9347 - val_mean_absolute_error: 0.7434\n",
      "Epoch 8/30\n",
      "90000/90000 [==============================] - 3s 30us/step - loss: 0.9389 - mean_absolute_error: 0.7531 - val_loss: 0.9402 - val_mean_absolute_error: 0.7453\n",
      "Epoch 9/30\n",
      "90000/90000 [==============================] - 3s 30us/step - loss: 0.9333 - mean_absolute_error: 0.7508 - val_loss: 0.9288 - val_mean_absolute_error: 0.7479\n",
      "Epoch 10/30\n",
      "90000/90000 [==============================] - 3s 30us/step - loss: 0.9300 - mean_absolute_error: 0.7501 - val_loss: 0.9379 - val_mean_absolute_error: 0.7557\n",
      "Epoch 11/30\n",
      "90000/90000 [==============================] - 3s 30us/step - loss: 0.9253 - mean_absolute_error: 0.7474 - val_loss: 0.9301 - val_mean_absolute_error: 0.7510.9090 - mean_absolute_error: 0. - ETA: 1s - loss: 0.9140 - mean\n",
      "Epoch 12/30\n",
      "90000/90000 [==============================] - 3s 31us/step - loss: 0.9239 - mean_absolute_error: 0.7469 - val_loss: 0.9394 - val_mean_absolute_error: 0.7631\n",
      "Epoch 13/30\n",
      "90000/90000 [==============================] - 3s 30us/step - loss: 0.9230 - mean_absolute_error: 0.7465 - val_loss: 0.9302 - val_mean_absolute_error: 0.7497\n",
      "Epoch 00013: early stopping\n"
     ]
    }
   ],
   "source": [
    "cf_mlp = Cf_mlp()\n",
    "cf_mlp.train(x = x_train, y = y_train, num_factors=32, epochs = 30, validation_data=(x_valid, y_valid), \n",
    "             hidden_layers=[(\"dense\", 64),\n",
    "                            (\"dropout\", 0.1),\n",
    "                            (\"dense\", 32),\n",
    "                            (\"dropout\", 0.1),\n",
    "                            (\"dense\", 16),\n",
    "                            (\"dropout\", 0.1)], early_stopping = 4)"
   ]
  },
  {
   "cell_type": "code",
   "execution_count": null,
   "metadata": {},
   "outputs": [],
   "source": []
  }
 ],
 "metadata": {
  "kernelspec": {
   "display_name": "Python 3",
   "language": "python",
   "name": "python3"
  },
  "language_info": {
   "codemirror_mode": {
    "name": "ipython",
    "version": 3
   },
   "file_extension": ".py",
   "mimetype": "text/x-python",
   "name": "python",
   "nbconvert_exporter": "python",
   "pygments_lexer": "ipython3",
   "version": "3.6.5"
  }
 },
 "nbformat": 4,
 "nbformat_minor": 2
}
