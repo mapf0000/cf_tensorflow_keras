{
 "cells": [
  {
   "cell_type": "code",
   "execution_count": 1,
   "metadata": {},
   "outputs": [
    {
     "name": "stderr",
     "output_type": "stream",
     "text": [
      "C:\\Users\\Max\\Anaconda3\\lib\\site-packages\\h5py\\__init__.py:36: FutureWarning: Conversion of the second argument of issubdtype from `float` to `np.floating` is deprecated. In future, it will be treated as `np.float64 == np.dtype(float).type`.\n",
      "  from ._conv import register_converters as _register_converters\n"
     ]
    }
   ],
   "source": [
    "# imports\n",
    "import numpy as np\n",
    "import tensorflow as tf\n",
    "\n",
    "from sklearn.model_selection import train_test_split\n",
    "\n",
    "from datasets.datasets import load_movie_lens_100k, load_movie_lens_1m\n",
    "from models.svd import SVD\n",
    "from models.cf_mlp import Cf_mlp"
   ]
  },
  {
   "cell_type": "code",
   "execution_count": 2,
   "metadata": {},
   "outputs": [],
   "source": [
    "# setup tensorflow session\n",
    "sess = tf.Session()"
   ]
  },
  {
   "cell_type": "code",
   "execution_count": 3,
   "metadata": {},
   "outputs": [
    {
     "name": "stdout",
     "output_type": "stream",
     "text": [
      "(900188, 2)\n",
      "(900188,)\n",
      "(100021, 2)\n",
      "(100021,)\n"
     ]
    }
   ],
   "source": [
    "# get data\n",
    "x, y = load_movie_lens_1m()\n",
    "#x, y = load_movie_lens_100k()\n",
    "x_train, x_valid, y_train, y_valid = train_test_split(x, y, test_size=0.1)\n",
    "print(x_train.shape)\n",
    "print(y_train.shape)\n",
    "print(x_valid.shape)\n",
    "print(y_valid.shape)"
   ]
  },
  {
   "cell_type": "code",
   "execution_count": 4,
   "metadata": {},
   "outputs": [
    {
     "name": "stdout",
     "output_type": "stream",
     "text": [
      "Training...\n",
      "Epoch 1/20\n",
      "Training loss: 0.5475\n",
      "Validation loss: 0.4527 | MAE: 0.7581 | RMSE: 0.9529\n",
      "Epoch 2/20\n",
      "Training loss: 0.4091\n",
      "Validation loss: 0.3997 | MAE: 0.7047 | RMSE: 0.8952\n",
      "Epoch 3/20\n",
      "Training loss: 0.3726\n",
      "Validation loss: 0.3836 | MAE: 0.6885 | RMSE: 0.8770\n",
      "Epoch 4/20\n",
      "Training loss: 0.3506\n",
      "Validation loss: 0.3745 | MAE: 0.6793 | RMSE: 0.8664\n",
      "Epoch 5/20\n",
      "Training loss: 0.3322\n",
      "Validation loss: 0.3688 | MAE: 0.6732 | RMSE: 0.8597\n",
      "Epoch 6/20\n",
      "Training loss: 0.3149\n",
      "Validation loss: 0.3653 | MAE: 0.6694 | RMSE: 0.8555\n",
      "Epoch 7/20\n",
      "Training loss: 0.2981\n",
      "Validation loss: 0.3638 | MAE: 0.6674 | RMSE: 0.8535\n",
      "Epoch 8/20\n",
      "Training loss: 0.2820\n",
      "Validation loss: 0.3640 | MAE: 0.6672 | RMSE: 0.8537\n",
      "Validation loss did not improve --> patience = 4.\n",
      "Epoch 9/20\n",
      "Training loss: 0.2668\n",
      "Validation loss: 0.3660 | MAE: 0.6686 | RMSE: 0.8559\n",
      "Validation loss did not improve --> patience = 3.\n",
      "Epoch 10/20\n",
      "Training loss: 0.2530\n",
      "Validation loss: 0.3693 | MAE: 0.6714 | RMSE: 0.8597\n",
      "Validation loss did not improve --> patience = 2.\n",
      "Epoch 11/20\n",
      "Training loss: 0.2409\n",
      "Validation loss: 0.3737 | MAE: 0.6751 | RMSE: 0.8647\n",
      "Validation loss did not improve --> patience = 1.\n",
      "Epoch 12/20\n",
      "Training loss: 0.2304\n",
      "Validation loss: 0.3789 | MAE: 0.6795 | RMSE: 0.8706\n",
      "Validation loss did not improve --> patience = 0.\n",
      "Epoch 13/20\n",
      "Training loss: 0.2214\n",
      "Validation loss: 0.3845 | MAE: 0.6842 | RMSE: 0.8769\n",
      "Validation loss did not improve --> stopping.\n",
      "INFO:tensorflow:Restoring parameters from tmp/best_model.ckpt\n"
     ]
    }
   ],
   "source": [
    "# Train SVD model\n",
    "svd_model = SVD(sess)\n",
    "svd_model.train(x = x_train, y = y_train, validation_data=(x_valid, y_valid), epochs = 20, batch_size=2048, early_stopping = 5)"
   ]
  },
  {
   "cell_type": "code",
   "execution_count": 20,
   "metadata": {},
   "outputs": [
    {
     "name": "stdout",
     "output_type": "stream",
     "text": [
      "Train on 900188 samples, validate on 100021 samples\n",
      "Epoch 1/50\n",
      "900188/900188 [==============================] - 26s 29us/step - loss: 2.0675 - mean_absolute_error: 1.0662 - val_loss: 0.9261 - val_mean_absolute_error: 0.7348\n",
      "Epoch 2/50\n",
      "900188/900188 [==============================] - 24s 27us/step - loss: 1.0956 - mean_absolute_error: 0.8085 - val_loss: 0.9171 - val_mean_absolute_error: 0.7371\n",
      "Epoch 3/50\n",
      "900188/900188 [==============================] - 26s 29us/step - loss: 1.0374 - mean_absolute_error: 0.7860 - val_loss: 0.8838 - val_mean_absolute_error: 0.7148\n",
      "Epoch 4/50\n",
      "900188/900188 [==============================] - 25s 28us/step - loss: 1.0008 - mean_absolute_error: 0.7714 - val_loss: 0.8714 - val_mean_absolute_error: 0.7109\n",
      "Epoch 5/50\n",
      "900188/900188 [==============================] - 25s 28us/step - loss: 0.9732 - mean_absolute_error: 0.7606 - val_loss: 0.8662 - val_mean_absolute_error: 0.7130\n",
      "Epoch 6/50\n",
      "900188/900188 [==============================] - 26s 29us/step - loss: 0.9509 - mean_absolute_error: 0.7507 - val_loss: 0.8587 - val_mean_absolute_error: 0.7075\n",
      "Epoch 7/50\n",
      "900188/900188 [==============================] - 25s 27us/step - loss: 0.9300 - mean_absolute_error: 0.7401 - val_loss: 0.8528 - val_mean_absolute_error: 0.7007\n",
      "Epoch 8/50\n",
      "900188/900188 [==============================] - 25s 28us/step - loss: 0.9130 - mean_absolute_error: 0.7317 - val_loss: 0.8525 - val_mean_absolute_error: 0.6972\n",
      "Epoch 9/50\n",
      "900188/900188 [==============================] - 27s 30us/step - loss: 0.8956 - mean_absolute_error: 0.7219 - val_loss: 0.8563 - val_mean_absolute_error: 0.7006\n",
      "Epoch 10/50\n",
      "900188/900188 [==============================] - 25s 28us/step - loss: 0.8778 - mean_absolute_error: 0.7119 - val_loss: 0.8541 - val_mean_absolute_error: 0.6962\n",
      "Epoch 11/50\n",
      "900188/900188 [==============================] - 25s 27us/step - loss: 0.8653 - mean_absolute_error: 0.7046 - val_loss: 0.8576 - val_mean_absolute_error: 0.6962\n",
      "Epoch 12/50\n",
      "900188/900188 [==============================] - 25s 27us/step - loss: 0.8519 - mean_absolute_error: 0.6965 - val_loss: 0.8601 - val_mean_absolute_error: 0.6931\n",
      "Epoch 13/50\n",
      "900188/900188 [==============================] - 25s 27us/step - loss: 0.8398 - mean_absolute_error: 0.6895 - val_loss: 0.8596 - val_mean_absolute_error: 0.6923\n",
      "Epoch 14/50\n",
      "900188/900188 [==============================] - 25s 27us/step - loss: 0.8297 - mean_absolute_error: 0.6834 - val_loss: 0.8629 - val_mean_absolute_error: 0.6932\n",
      "Epoch 15/50\n",
      "900188/900188 [==============================] - 25s 27us/step - loss: 0.8201 - mean_absolute_error: 0.6776 - val_loss: 0.8648 - val_mean_absolute_error: 0.6914\n",
      "Epoch 16/50\n",
      "900188/900188 [==============================] - 25s 27us/step - loss: 0.8104 - mean_absolute_error: 0.6718 - val_loss: 0.8699 - val_mean_absolute_error: 0.6931\n",
      "Epoch 17/50\n",
      "900188/900188 [==============================] - 25s 27us/step - loss: 0.8023 - mean_absolute_error: 0.6665 - val_loss: 0.8719 - val_mean_absolute_error: 0.6933\n",
      "Epoch 18/50\n",
      "122880/900188 [===>..........................] - ETA: 21s - loss: 0.7616 - mean_absolute_error: 0.6464"
     ]
    },
    {
     "ename": "KeyboardInterrupt",
     "evalue": "",
     "output_type": "error",
     "traceback": [
      "\u001b[1;31m---------------------------------------------------------------------------\u001b[0m",
      "\u001b[1;31mKeyboardInterrupt\u001b[0m                         Traceback (most recent call last)",
      "\u001b[1;32m<ipython-input-20-fd650d1453cb>\u001b[0m in \u001b[0;36m<module>\u001b[1;34m()\u001b[0m\n\u001b[0;32m      6\u001b[0m                             \u001b[1;33m(\u001b[0m\u001b[1;34m\"dropout\"\u001b[0m\u001b[1;33m,\u001b[0m \u001b[1;36m0.5\u001b[0m\u001b[1;33m)\u001b[0m\u001b[1;33m,\u001b[0m\u001b[1;33m\u001b[0m\u001b[0m\n\u001b[0;32m      7\u001b[0m                             \u001b[1;33m(\u001b[0m\u001b[1;34m\"dense\"\u001b[0m\u001b[1;33m,\u001b[0m \u001b[1;36m256\u001b[0m\u001b[1;33m)\u001b[0m\u001b[1;33m,\u001b[0m\u001b[1;33m\u001b[0m\u001b[0m\n\u001b[1;32m----> 8\u001b[1;33m                             (\"dropout\", 0.5)], early_stopping = 10, reg_p_u = 0.0001, reg_q_i = 0.0001)\n\u001b[0m",
      "\u001b[1;32m~\\workspace\\cf_tensorflow_keras\\models\\cf_mlp.py\u001b[0m in \u001b[0;36mtrain\u001b[1;34m(self, x, y, num_factors, optimizer, epochs, batch_size, hidden_layers, validation_data, reg_p_u, reg_q_i, early_stopping)\u001b[0m\n\u001b[0;32m    100\u001b[0m             \u001b[0mearly_stopping\u001b[0m \u001b[1;33m=\u001b[0m \u001b[0mtf\u001b[0m\u001b[1;33m.\u001b[0m\u001b[0mkeras\u001b[0m\u001b[1;33m.\u001b[0m\u001b[0mcallbacks\u001b[0m\u001b[1;33m.\u001b[0m\u001b[0mEarlyStopping\u001b[0m\u001b[1;33m(\u001b[0m\u001b[0mpatience\u001b[0m\u001b[1;33m=\u001b[0m\u001b[0mearly_stopping\u001b[0m\u001b[1;33m,\u001b[0m \u001b[0mverbose\u001b[0m\u001b[1;33m=\u001b[0m\u001b[1;36m1\u001b[0m\u001b[1;33m)\u001b[0m\u001b[1;33m\u001b[0m\u001b[0m\n\u001b[0;32m    101\u001b[0m         model.fit([x[:, 0], x[:, 1]], y, epochs=epochs, batch_size=batch_size,\n\u001b[1;32m--> 102\u001b[1;33m                   validation_data=([x_valid[:, 0], x_valid[:, 1]], y_valid), callbacks=[early_stopping])\n\u001b[0m",
      "\u001b[1;32m~\\Anaconda3\\lib\\site-packages\\tensorflow\\python\\keras\\engine\\training.py\u001b[0m in \u001b[0;36mfit\u001b[1;34m(self, x, y, batch_size, epochs, verbose, callbacks, validation_split, validation_data, shuffle, class_weight, sample_weight, initial_epoch, steps_per_epoch, validation_steps, **kwargs)\u001b[0m\n\u001b[0;32m   1346\u001b[0m           \u001b[0minitial_epoch\u001b[0m\u001b[1;33m=\u001b[0m\u001b[0minitial_epoch\u001b[0m\u001b[1;33m,\u001b[0m\u001b[1;33m\u001b[0m\u001b[0m\n\u001b[0;32m   1347\u001b[0m           \u001b[0msteps_per_epoch\u001b[0m\u001b[1;33m=\u001b[0m\u001b[0msteps_per_epoch\u001b[0m\u001b[1;33m,\u001b[0m\u001b[1;33m\u001b[0m\u001b[0m\n\u001b[1;32m-> 1348\u001b[1;33m           validation_steps=validation_steps)\n\u001b[0m\u001b[0;32m   1349\u001b[0m \u001b[1;33m\u001b[0m\u001b[0m\n\u001b[0;32m   1350\u001b[0m   def evaluate(self,\n",
      "\u001b[1;32m~\\Anaconda3\\lib\\site-packages\\tensorflow\\python\\keras\\engine\\training_arrays.py\u001b[0m in \u001b[0;36mfit_loop\u001b[1;34m(model, inputs, targets, sample_weights, batch_size, epochs, verbose, callbacks, val_inputs, val_targets, val_sample_weights, shuffle, callback_metrics, initial_epoch, steps_per_epoch, validation_steps)\u001b[0m\n\u001b[0;32m    251\u001b[0m           \u001b[0mins_batch\u001b[0m\u001b[1;33m[\u001b[0m\u001b[0mi\u001b[0m\u001b[1;33m]\u001b[0m \u001b[1;33m=\u001b[0m \u001b[0mins_batch\u001b[0m\u001b[1;33m[\u001b[0m\u001b[0mi\u001b[0m\u001b[1;33m]\u001b[0m\u001b[1;33m.\u001b[0m\u001b[0mtoarray\u001b[0m\u001b[1;33m(\u001b[0m\u001b[1;33m)\u001b[0m\u001b[1;33m\u001b[0m\u001b[0m\n\u001b[0;32m    252\u001b[0m \u001b[1;33m\u001b[0m\u001b[0m\n\u001b[1;32m--> 253\u001b[1;33m         \u001b[0mouts\u001b[0m \u001b[1;33m=\u001b[0m \u001b[0mf\u001b[0m\u001b[1;33m(\u001b[0m\u001b[0mins_batch\u001b[0m\u001b[1;33m)\u001b[0m\u001b[1;33m\u001b[0m\u001b[0m\n\u001b[0m\u001b[0;32m    254\u001b[0m         \u001b[1;32mif\u001b[0m \u001b[1;32mnot\u001b[0m \u001b[0misinstance\u001b[0m\u001b[1;33m(\u001b[0m\u001b[0mouts\u001b[0m\u001b[1;33m,\u001b[0m \u001b[0mlist\u001b[0m\u001b[1;33m)\u001b[0m\u001b[1;33m:\u001b[0m\u001b[1;33m\u001b[0m\u001b[0m\n\u001b[0;32m    255\u001b[0m           \u001b[0mouts\u001b[0m \u001b[1;33m=\u001b[0m \u001b[1;33m[\u001b[0m\u001b[0mouts\u001b[0m\u001b[1;33m]\u001b[0m\u001b[1;33m\u001b[0m\u001b[0m\n",
      "\u001b[1;32m~\\Anaconda3\\lib\\site-packages\\tensorflow\\python\\keras\\backend.py\u001b[0m in \u001b[0;36m__call__\u001b[1;34m(self, inputs)\u001b[0m\n\u001b[0;32m   2895\u001b[0m       \u001b[0mself\u001b[0m\u001b[1;33m.\u001b[0m\u001b[0m_make_callable\u001b[0m\u001b[1;33m(\u001b[0m\u001b[0mfeed_arrays\u001b[0m\u001b[1;33m,\u001b[0m \u001b[0mfeed_symbols\u001b[0m\u001b[1;33m,\u001b[0m \u001b[0msymbol_vals\u001b[0m\u001b[1;33m,\u001b[0m \u001b[0msession\u001b[0m\u001b[1;33m)\u001b[0m\u001b[1;33m\u001b[0m\u001b[0m\n\u001b[0;32m   2896\u001b[0m \u001b[1;33m\u001b[0m\u001b[0m\n\u001b[1;32m-> 2897\u001b[1;33m     \u001b[0mfetched\u001b[0m \u001b[1;33m=\u001b[0m \u001b[0mself\u001b[0m\u001b[1;33m.\u001b[0m\u001b[0m_callable_fn\u001b[0m\u001b[1;33m(\u001b[0m\u001b[1;33m*\u001b[0m\u001b[0marray_vals\u001b[0m\u001b[1;33m)\u001b[0m\u001b[1;33m\u001b[0m\u001b[0m\n\u001b[0m\u001b[0;32m   2898\u001b[0m     \u001b[1;32mreturn\u001b[0m \u001b[0mfetched\u001b[0m\u001b[1;33m[\u001b[0m\u001b[1;33m:\u001b[0m\u001b[0mlen\u001b[0m\u001b[1;33m(\u001b[0m\u001b[0mself\u001b[0m\u001b[1;33m.\u001b[0m\u001b[0moutputs\u001b[0m\u001b[1;33m)\u001b[0m\u001b[1;33m]\u001b[0m\u001b[1;33m\u001b[0m\u001b[0m\n\u001b[0;32m   2899\u001b[0m \u001b[1;33m\u001b[0m\u001b[0m\n",
      "\u001b[1;32m~\\Anaconda3\\lib\\site-packages\\tensorflow\\python\\client\\session.py\u001b[0m in \u001b[0;36m__call__\u001b[1;34m(self, *args)\u001b[0m\n\u001b[0;32m   1449\u001b[0m         \u001b[1;32mif\u001b[0m \u001b[0mself\u001b[0m\u001b[1;33m.\u001b[0m\u001b[0m_session\u001b[0m\u001b[1;33m.\u001b[0m\u001b[0m_created_with_new_api\u001b[0m\u001b[1;33m:\u001b[0m\u001b[1;33m\u001b[0m\u001b[0m\n\u001b[0;32m   1450\u001b[0m           return tf_session.TF_SessionRunCallable(\n\u001b[1;32m-> 1451\u001b[1;33m               self._session._session, self._handle, args, status, None)\n\u001b[0m\u001b[0;32m   1452\u001b[0m         \u001b[1;32melse\u001b[0m\u001b[1;33m:\u001b[0m\u001b[1;33m\u001b[0m\u001b[0m\n\u001b[0;32m   1453\u001b[0m           return tf_session.TF_DeprecatedSessionRunCallable(\n",
      "\u001b[1;31mKeyboardInterrupt\u001b[0m: "
     ]
    }
   ],
   "source": [
    "cf_mlp = Cf_mlp()\n",
    "cf_mlp.train(x = x_train, y = y_train, num_factors=256, epochs = 50, batch_size=8192, validation_data=(x_valid, y_valid), \n",
    "             hidden_layers=[(\"dense\", 512),\n",
    "                            (\"dropout\", 0.5),\n",
    "                            (\"dense\", 384),\n",
    "                            (\"dropout\", 0.5),\n",
    "                            (\"dense\", 256),\n",
    "                            (\"dropout\", 0.5)], early_stopping = 10, reg_p_u = 0.0001, reg_q_i = 0.0001)"
   ]
  },
  {
   "cell_type": "code",
   "execution_count": null,
   "metadata": {},
   "outputs": [],
   "source": []
  }
 ],
 "metadata": {
  "kernelspec": {
   "display_name": "Python 3",
   "language": "python",
   "name": "python3"
  },
  "language_info": {
   "codemirror_mode": {
    "name": "ipython",
    "version": 3
   },
   "file_extension": ".py",
   "mimetype": "text/x-python",
   "name": "python",
   "nbconvert_exporter": "python",
   "pygments_lexer": "ipython3",
   "version": "3.6.5"
  }
 },
 "nbformat": 4,
 "nbformat_minor": 2
}
